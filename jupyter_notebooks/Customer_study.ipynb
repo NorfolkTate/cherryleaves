{
 "cells": [
  {
   "cell_type": "markdown",
   "metadata": {},
   "source": [
    "# Customer Study Notebook"
   ]
  },
  {
   "cell_type": "markdown",
   "metadata": {},
   "source": [
    "## Objectives\n",
    "\n",
    "*   Answer business requirement 1: \n",
    "    * The client is interested to understand the patterns from the customer base, so the client can learn the most relevant variables that are correlated to a churned customer.\n",
    "\n",
    "## Inputs\n",
    "\n",
    "* outputs/datasets/collection/TelcoCustomerChurn.csv\n",
    "\n",
    "## Outputs\n",
    "\n",
    "* generate code that answers business requirement 1 and can be used to build the Streamlit App"
   ]
  },
  {
   "cell_type": "markdown",
   "metadata": {},
   "source": [
    "---"
   ]
  },
  {
   "cell_type": "markdown",
   "metadata": {},
   "source": [
    "# Change working directory"
   ]
  },
  {
   "cell_type": "code",
   "execution_count": 1,
   "metadata": {},
   "outputs": [
    {
     "data": {
      "text/plain": [
       "'/workspace/cherryleaves/jupyter_notebooks'"
      ]
     },
     "execution_count": 1,
     "metadata": {},
     "output_type": "execute_result"
    }
   ],
   "source": [
    "import os\n",
    "current_dir = os.getcwd()\n",
    "current_dir"
   ]
  },
  {
   "cell_type": "code",
   "execution_count": 2,
   "metadata": {},
   "outputs": [
    {
     "name": "stdout",
     "output_type": "stream",
     "text": [
      "You set a new current directory\n"
     ]
    }
   ],
   "source": [
    "os.chdir(os.path.dirname(current_dir))\n",
    "print(\"You set a new current directory\")"
   ]
  },
  {
   "cell_type": "code",
   "execution_count": 3,
   "metadata": {},
   "outputs": [
    {
     "data": {
      "text/plain": [
       "'/workspace/cherryleaves'"
      ]
     },
     "execution_count": 3,
     "metadata": {},
     "output_type": "execute_result"
    }
   ],
   "source": [
    "current_dir = os.getcwd()\n",
    "current_dir"
   ]
  },
  {
   "cell_type": "markdown",
   "metadata": {},
   "source": [
    "---"
   ]
  },
  {
   "cell_type": "markdown",
   "metadata": {},
   "source": [
    "# Load Data"
   ]
  },
  {
   "cell_type": "code",
   "execution_count": 4,
   "metadata": {},
   "outputs": [
    {
     "name": "stdout",
     "output_type": "stream",
     "text": [
      "Training Data Preview:\n",
      "                                          image_path  label\n",
      "0  /workspace/cherryleaves/inputs/datasets/raw/ch...      1\n",
      "1  /workspace/cherryleaves/inputs/datasets/raw/ch...      0\n",
      "2  /workspace/cherryleaves/inputs/datasets/raw/ch...      0\n",
      "3  /workspace/cherryleaves/inputs/datasets/raw/ch...      1\n",
      "4  /workspace/cherryleaves/inputs/datasets/raw/ch...      0\n",
      "Training data shape: (3366, 2)\n",
      "Validation data shape: (842, 2)\n"
     ]
    }
   ],
   "source": [
    "import pandas as pd\n",
    "\n",
    "train_file = '/workspace/cherryleaves/outputs/datasets/collection/train.csv'\n",
    "val_file = '/workspace/cherryleaves/outputs/datasets/collection/val.csv'\n",
    "\n",
    "train_df = pd.read_csv(train_file)\n",
    "val_df = pd.read_csv(val_file)\n",
    "\n",
    "print(\"Training Data Preview:\")\n",
    "print(train_df.head())\n",
    "\n",
    "print(f\"Training data shape: {train_df.shape}\")\n",
    "print(f\"Validation data shape: {val_df.shape}\")\n"
   ]
  },
  {
   "cell_type": "markdown",
   "metadata": {},
   "source": [
    "Validate image paths"
   ]
  },
  {
   "cell_type": "code",
   "execution_count": 5,
   "metadata": {},
   "outputs": [
    {
     "name": "stdout",
     "output_type": "stream",
     "text": [
      "Missing files in training data: 0\n",
      "All training image paths are valid!\n"
     ]
    }
   ],
   "source": [
    "import os\n",
    "\n",
    "missing_files = [path for path in train_df['image_path'] if not os.path.exists(path)]\n",
    "print(f\"Missing files in training data: {len(missing_files)}\")\n",
    "\n",
    "if missing_files:\n",
    "    print(\"Sample of missing files:\")\n",
    "    print(missing_files[:5])  # Display the first few missing file paths\n",
    "else:\n",
    "    print(\"All training image paths are valid!\")\n"
   ]
  }
 ],
 "metadata": {
  "kernelspec": {
   "display_name": "Python 3",
   "language": "python",
   "name": "python3"
  },
  "language_info": {
   "codemirror_mode": {
    "name": "ipython",
    "version": 3
   },
   "file_extension": ".py",
   "mimetype": "text/x-python",
   "name": "python",
   "nbconvert_exporter": "python",
   "pygments_lexer": "ipython3",
   "version": "3.12.2"
  }
 },
 "nbformat": 4,
 "nbformat_minor": 2
}
